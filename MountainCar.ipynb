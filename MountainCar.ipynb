{
  "nbformat": 4,
  "nbformat_minor": 0,
  "metadata": {
    "colab": {
      "name": "MountainCar.ipynb",
      "provenance": [],
      "collapsed_sections": [],
      "authorship_tag": "ABX9TyPQgSRNe/BlX716mIn7hyqu"
    },
    "kernelspec": {
      "display_name": "Python 3",
      "name": "python3"
    }
  },
  "cells": [
    {
      "cell_type": "code",
      "metadata": {
        "colab": {
          "base_uri": "https://localhost:8080/"
        },
        "id": "At40pBcXOKG-",
        "outputId": "153afb94-696b-4141-8572-31e10a0f4db0"
      },
      "source": [
        "!sudo apt-get install -y xvfb ffmpeg x11-utils\n",
        "!pip install -q 'gym==0.17.0'\n",
        "!pip install -q 'imageio==2.4.0'\n",
        "!pip install -q PILLOW\n",
        "!pip install -q 'pyglet==1.5.0'\n",
        "!pip install -q pyvirtualdisplay\n",
        "!pip install -q tf-agents"
      ],
      "execution_count": 2,
      "outputs": [
        {
          "output_type": "stream",
          "text": [
            "Reading package lists... Done\n",
            "Building dependency tree       \n",
            "Reading state information... Done\n",
            "x11-utils is already the newest version (7.7+3build1).\n",
            "ffmpeg is already the newest version (7:3.4.8-0ubuntu0.2).\n",
            "xvfb is already the newest version (2:1.19.6-1ubuntu4.7).\n",
            "0 upgraded, 0 newly installed, 0 to remove and 59 not upgraded.\n"
          ],
          "name": "stdout"
        }
      ]
    },
    {
      "cell_type": "code",
      "metadata": {
        "id": "LSmlYhVbOVjY"
      },
      "source": [
        "import base64\n",
        "import imageio\n",
        "import IPython\n",
        "import matplotlib\n",
        "import matplotlib.pyplot as plt\n",
        "import numpy as np\n",
        "import PIL.Image\n",
        "import pyvirtualdisplay\n",
        " \n",
        " #for tensorflow agents\n",
        "import tensorflow as tf\n",
        " \n",
        "from tf_agents.agents.dqn import dqn_agent\n",
        "from tf_agents.drivers import dynamic_step_driver\n",
        "from tf_agents.environments import suite_gym\n",
        "from tf_agents.environments import tf_py_environment\n",
        "from tf_agents.eval import metric_utils\n",
        "from tf_agents.metrics import tf_metrics\n",
        "from tf_agents.networks import q_network\n",
        "from tf_agents.policies import random_tf_policy\n",
        "from tf_agents.replay_buffers import tf_uniform_replay_buffer\n",
        "from tf_agents.trajectories import trajectory\n",
        "from tf_agents.utils import common"
      ],
      "execution_count": 3,
      "outputs": []
    },
    {
      "cell_type": "code",
      "metadata": {
        "id": "UpBVPLTpwPRo"
      },
      "source": [
        "# Set up a virtual display for rendering OpenAI gym environments.\n",
        "display = pyvirtualdisplay.Display(visible=0, size=(1400, 900)).start()"
      ],
      "execution_count": 4,
      "outputs": []
    },
    {
      "cell_type": "code",
      "metadata": {
        "id": "cSmycytKOcHX"
      },
      "source": [
        "env_name = 'MountainCar-v0'\n",
        "envy = suite_gym.load(env_name)"
      ],
      "execution_count": 5,
      "outputs": []
    },
    {
      "cell_type": "code",
      "metadata": {
        "colab": {
          "base_uri": "https://localhost:8080/",
          "height": 417
        },
        "id": "2XkjF_z4OfdK",
        "outputId": "bd632c81-5fff-4d36-9145-22acc06dff3e"
      },
      "source": [
        "envy.reset()\n",
        "PIL.Image.fromarray(envy.render())\n"
      ],
      "execution_count": 6,
      "outputs": [
        {
          "output_type": "execute_result",
          "data": {
            "image/png": "[encoded data removed]",
            "text/plain": [
              "<PIL.Image.Image image mode=RGB size=600x400 at 0x7F673C7A7358>"
            ]
          },
          "metadata": {
            "tags": []
          },
          "execution_count": 6
        }
      ]
    },
    {
      "cell_type": "markdown",
      "metadata": {
        "id": "3p8izuQ0NI2Y"
      },
      "source": [
        "*Code snippets for video rendering obtained from https://colab.research.google.com/drive/1flu31ulJlgiRL1dnN2ir8wGh9p7Zij2t#scrollTo=dGEFMfDOzLen*"
      ]
    },
    {
      "cell_type": "code",
      "metadata": {
        "colab": {
          "base_uri": "https://localhost:8080/"
        },
        "id": "XJRuiKqPojdU",
        "outputId": "5dd8e5b8-fc38-4ebd-c1fc-ba62ee794d7e"
      },
      "source": [
        "#for atari games\n",
        "!apt-get update > /dev/null 2>&1\n",
        "!apt-get install cmake > /dev/null 2>&1\n",
        "!pip install --upgrade setuptools 2>&1\n",
        "!pip install ez_setup > /dev/null 2>&1\n",
        "!pip install gym[atari] > /dev/null 2>&1"
      ],
      "execution_count": 7,
      "outputs": [
        {
          "output_type": "stream",
          "text": [
            "Requirement already up-to-date: setuptools in /usr/local/lib/python3.6/dist-packages (50.3.2)\n"
          ],
          "name": "stdout"
        }
      ]
    },
    {
      "cell_type": "code",
      "metadata": {
        "id": "tF9kvMXjM1ZT"
      },
      "source": [
        "import gym\n",
        "from gym import logger as gymlogger\n",
        "from gym.wrappers import Monitor\n",
        "gymlogger.set_level(40) #error only\n",
        "import tensorflow as tf\n",
        "import numpy as np\n",
        "import random\n",
        "import matplotlib\n",
        "import matplotlib.pyplot as plt\n",
        "%matplotlib inline\n",
        "import math\n",
        "import glob\n",
        "import io\n",
        "import base64\n",
        "from IPython.display import HTML\n",
        " \n",
        "from IPython import display as ipythondisplay"
      ],
      "execution_count": 8,
      "outputs": []
    },
    {
      "cell_type": "code",
      "metadata": {
        "id": "KfVrweBGM-aa"
      },
      "source": [
        "\"\"\"\n",
        "Utility functions to enable video recording of gym environment and displaying it\n",
        "To enable video, just do \"env = wrap_env(env)\"\"\n",
        "\"\"\"\n",
        " \n",
        "def show_video():\n",
        "  mp4list = glob.glob('video/*.mp4')\n",
        "  if len(mp4list) > 0:\n",
        "    mp4 = mp4list[0]\n",
        "    video = io.open(mp4, 'r+b').read()\n",
        "    encoded = base64.b64encode(video)\n",
        "    ipythondisplay.display(HTML(data='''<video alt=\"test\" autoplay \n",
        "                loop controls style=\"height: 400px;\">\n",
        "                <source src=\"data:video/mp4;base64,{0}\" type=\"video/mp4\" />\n",
        "             </video>'''.format(encoded.decode('ascii'))))\n",
        "  else: \n",
        "    print(\"Could not find video\")\n",
        "    \n",
        " \n",
        "def wrap_env(env):\n",
        "  env = Monitor(env, './video', force=True)\n",
        "  return env"
      ],
      "execution_count": 9,
      "outputs": []
    },
    {
      "cell_type": "code",
      "metadata": {
        "id": "OAcyxNoxNbci"
      },
      "source": [
        "# gym environment query function gotten from \"https://github.com/jeffheaton/t81_558_deep_learning/blob/master/t81_558_class_12_01_ai_gym.ipynb\"\n",
        "def query_environment(name):\n",
        "  env = gym.make(name)\n",
        "  spec = gym.spec(name)\n",
        "  print(f\"Action Space: {env.action_space}\")\n",
        "  print(f\"Observation Space: {env.observation_space}\")\n",
        "  print(f\"Max Episode Steps: {spec.max_episode_steps}\")\n",
        "  print(f\"Nondeterministic: {spec.nondeterministic}\")\n",
        "  print(f\"Reward Range: {env.reward_range}\")\n",
        "  print(f\"Reward Threshold: {spec.reward_threshold}\")"
      ],
      "execution_count": 10,
      "outputs": []
    },
    {
      "cell_type": "code",
      "metadata": {
        "colab": {
          "base_uri": "https://localhost:8080/"
        },
        "id": "tMN0P7VfNrUs",
        "outputId": "e5359849-7a79-47e4-8f62-5efb237adf65"
      },
      "source": [
        "query_environment('MountainCar-v0')"
      ],
      "execution_count": 21,
      "outputs": [
        {
          "output_type": "stream",
          "text": [
            "Action Space: Discrete(3)\n",
            "Observation Space: Box(2,)\n",
            "Max Episode Steps: 200\n",
            "Nondeterministic: False\n",
            "Reward Range: (-inf, inf)\n",
            "Reward Threshold: -110.0\n"
          ],
          "name": "stdout"
        }
      ]
    },
    {
      "cell_type": "code",
      "metadata": {
        "id": "JJWmKiM0o_zB"
      },
      "source": [
        "env = wrap_env(gym.make(\"MountainCar-v0\"))"
      ],
      "execution_count": 22,
      "outputs": []
    },
    {
      "cell_type": "code",
      "metadata": {
        "colab": {
          "base_uri": "https://localhost:8080/"
        },
        "id": "web6q0K77GUJ",
        "outputId": "f0ed5111-7ba7-4ba8-d5f8-3982b379248b"
      },
      "source": [
        "discrete_size = [20] * len(env.observation_space.high)\n",
        "discrete_size"
      ],
      "execution_count": 23,
      "outputs": [
        {
          "output_type": "execute_result",
          "data": {
            "text/plain": [
              "[20, 20]"
            ]
          },
          "metadata": {
            "tags": []
          },
          "execution_count": 23
        }
      ]
    },
    {
      "cell_type": "code",
      "metadata": {
        "id": "bqb4tY2QoprX"
      },
      "source": [
        "def discreter(state):\n",
        "  discrete_state = (state - env.observation_space.low)/discrete_size\n",
        "  return tuple(discrete_state.astype(np.int))"
      ],
      "execution_count": 24,
      "outputs": []
    },
    {
      "cell_type": "code",
      "metadata": {
        "id": "t7l3NH9FlCMY"
      },
      "source": [
        "num_episodes = 25000\n",
        "learning_rate = 0.1\n",
        "discount_rate = 0.97\n",
        "exploration_rate = 1\n",
        "max_exploration_rate = 1\n",
        "min_exploration_rate = 0.01\n",
        "exploration_decay_rate = 0.001"
      ],
      "execution_count": 25,
      "outputs": []
    },
    {
      "cell_type": "code",
      "metadata": {
        "id": "y634Rwrrr5j4"
      },
      "source": [
        "q_table = np.random.uniform(low=-2,high=0,size=(20,20,3))"
      ],
      "execution_count": 26,
      "outputs": []
    },
    {
      "cell_type": "code",
      "metadata": {
        "id": "jvvQICrAOuC3"
      },
      "source": [
        "for episode in range(num_episodes):\n",
        "  state = discreter(env.reset())\n",
        "  done = False\n",
        "\n",
        "  env.render()\n",
        "  while done == False:\n",
        "    exploration_rate_threshold = random.uniform(0,1)\n",
        "\n",
        "    if exploration_rate_threshold > exploration_rate:\n",
        "      action = np.argmax(q_table[state])\n",
        "    else:\n",
        "      action = env.action_space.sample()\n",
        "\n",
        "    new_state,reward,done,info = env.step(action)\n",
        "\n",
        "    new_discrete_state = discreter(new_state)\n",
        " \n",
        "    q_table[state + (action,)] = q_table[state + (action,)] * (1 - learning_rate) + learning_rate * (reward + discount_rate * np.max(q_table[new_discrete_state]))\n",
        "\n",
        "    state = new_discrete_state \n",
        "\n",
        "  exploration_rate = min_exploration_rate + (max_exploration_rate - min_exploration_rate) * np.exp(-exploration_decay_rate*episode)  \n",
        "\n",
        "env.close()"
      ],
      "execution_count": 27,
      "outputs": []
    },
    {
      "cell_type": "code",
      "metadata": {
        "id": "KJfx0nYkMSZp",
        "colab": {
          "base_uri": "https://localhost:8080/",
          "height": 421
        },
        "outputId": "eb24df2a-3d17-4683-a31f-5621cad15295"
      },
      "source": [
        "show_video()"
      ],
      "execution_count": 28,
      "outputs": [
        {
          "output_type": "display_data",
          "data": {
            "text/html": [
              "<video alt=\"test\" autoplay \n",
              "                loop controls style=\"height: 400px;\">\n",
              "                <source src=\"data:video/mp4;base64,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\" type=\"video/mp4\" />\n",
              "             </video>"
            ],
            "text/plain": [
              "<IPython.core.display.HTML object>"
            ]
          },
          "metadata": {
            "tags": []
          }
        }
      ]
    },
    {
      "cell_type": "code",
      "metadata": {
        "id": "cb6VF6N88Inh"
      },
      "source": [
        ""
      ],
      "execution_count": null,
      "outputs": []
    }
  ]
}